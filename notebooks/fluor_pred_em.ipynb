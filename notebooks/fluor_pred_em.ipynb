{
 "cells": [
  {
   "cell_type": "code",
   "execution_count": 9,
   "metadata": {},
   "outputs": [],
   "source": [
    "import pandas as pd\n",
    "from pathlib import Path"
   ]
  },
  {
   "cell_type": "code",
   "execution_count": 10,
   "metadata": {},
   "outputs": [],
   "source": [
    "raw_data_dir = Path('/data/home/silong/projects/fluor/fluor_pred/2_Main-code/1_all_types/dataset/random_split')\n",
    "\n",
    "df_train = pd.read_csv(raw_data_dir / 'random_train_15sol.csv')\n",
    "df_test = pd.read_csv(raw_data_dir / 'random_test_15sol.csv')\n",
    "df_valid = pd.read_csv(raw_data_dir / 'random_valid_15sol.csv')"
   ]
  },
  {
   "cell_type": "code",
   "execution_count": 7,
   "metadata": {},
   "outputs": [],
   "source": [
    "def transform_data(df, split_type = 'train'):\n",
    "    _df = df.copy()\n",
    "    df_data = pd.DataFrame()\n",
    "    df_data['smiles'] = _df['SMILES']\n",
    "    df_data['solvent'] = _df['Solvent']\n",
    "    df_data['emission_fp'] = _df['EM']\n",
    "    df_data['split'] = split_type\n",
    "    return df_data"
   ]
  },
  {
   "cell_type": "code",
   "execution_count": 8,
   "metadata": {},
   "outputs": [],
   "source": [
    "df_train_transformed = transform_data(df_train, 'train')\n",
    "df_test_transformed = transform_data(df_test, 'test')\n",
    "df_valid_transformed = transform_data(df_valid, 'valid')\n",
    "df_data = pd.concat([df_train_transformed, df_test_transformed, df_valid_transformed])\n",
    "data_dir = Path('/data/home/silong/projects/fluor/KPGT-fluor/datasets/emission_fp')\n",
    "data_dir.mkdir(parents=True, exist_ok=True)\n",
    "df_data.to_csv('/data/home/silong/projects/fluor/KPGT-fluor/datasets/emission_fp/emission_fp.csv', index=False)"
   ]
  },
  {
   "cell_type": "code",
   "execution_count": null,
   "metadata": {},
   "outputs": [],
   "source": []
  }
 ],
 "metadata": {
  "kernelspec": {
   "display_name": "mix",
   "language": "python",
   "name": "python3"
  },
  "language_info": {
   "codemirror_mode": {
    "name": "ipython",
    "version": 3
   },
   "file_extension": ".py",
   "mimetype": "text/x-python",
   "name": "python",
   "nbconvert_exporter": "python",
   "pygments_lexer": "ipython3",
   "version": "3.9.20"
  }
 },
 "nbformat": 4,
 "nbformat_minor": 2
}
