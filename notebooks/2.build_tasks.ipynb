{
 "cells": [
  {
   "cell_type": "code",
   "execution_count": 89,
   "metadata": {},
   "outputs": [],
   "source": [
    "import pandas as pd\n",
    "from pathlib import Path\n",
    "from loguru import logger"
   ]
  },
  {
   "cell_type": "code",
   "execution_count": 90,
   "metadata": {},
   "outputs": [],
   "source": [
    "task_name = \"absorption\"  # absorption, emission, quantum_yield, log_molar_absorptivity\n",
    "dataset_name = \"xanthene\"  # consolidation, cyanine, xanthene\n",
    "split_method = \"random\"  # random, scaffold\n",
    "raw_data_dir = Path(\"../datasets/raw\")\n",
    "data_dir = Path(\"../datasets/\")"
   ]
  },
  {
   "cell_type": "code",
   "execution_count": 91,
   "metadata": {},
   "outputs": [],
   "source": [
    "def build_data(raw_data_path, data_path, task_name):\n",
    "    df = pd.read_csv(raw_data_path)\n",
    "    logger.info(f\"before dropna: {len(df)}\")\n",
    "    df.dropna(subset=[task_name], inplace=True)\n",
    "    \n",
    "    df_new = pd.DataFrame()\n",
    "    df_new[\"smiles\"] = df[\"smiles\"]\n",
    "    df_new[\"solvent\"] = df[\"solvent\"]\n",
    "    df_new[task_name] = df[task_name]\n",
    "    df_new[\"split\"] = df[\"split\"]\n",
    "\n",
    "    n_total = len(df_new)\n",
    "    n_test = len(df_new[df_new[\"split\"] == \"test\"])\n",
    "    n_valid = len(df_new[df_new[\"split\"] == \"valid\"])\n",
    "    n_train = len(df_new[df_new[\"split\"] == \"train\"])\n",
    "    df_new.to_csv(data_path, index=False)\n",
    "    logger.info(f\"Dataset {dataset_name} with {n_total} samples, {n_test} test, {n_valid} valid, {n_train} train\")"
   ]
  },
  {
   "cell_type": "code",
   "execution_count": 92,
   "metadata": {},
   "outputs": [
    {
     "name": "stderr",
     "output_type": "stream",
     "text": [
      "\u001b[32m2025-04-05 18:54:21.007\u001b[0m | \u001b[1mINFO    \u001b[0m | \u001b[36m__main__\u001b[0m:\u001b[36m<module>\u001b[0m:\u001b[36m2\u001b[0m - \u001b[1mBuilding absorption for xanthene fold 0\u001b[0m\n",
      "\u001b[32m2025-04-05 18:54:21.024\u001b[0m | \u001b[1mINFO    \u001b[0m | \u001b[36m__main__\u001b[0m:\u001b[36mbuild_data\u001b[0m:\u001b[36m3\u001b[0m - \u001b[1mbefore dropna: 1376\u001b[0m\n"
     ]
    },
    {
     "name": "stderr",
     "output_type": "stream",
     "text": [
      "\u001b[32m2025-04-05 18:54:21.045\u001b[0m | \u001b[1mINFO    \u001b[0m | \u001b[36m__main__\u001b[0m:\u001b[36mbuild_data\u001b[0m:\u001b[36m17\u001b[0m - \u001b[1mDataset xanthene with 1370 samples, 229 test, 229 valid, 912 train\u001b[0m\n",
      "\u001b[32m2025-04-05 18:54:21.048\u001b[0m | \u001b[1mINFO    \u001b[0m | \u001b[36m__main__\u001b[0m:\u001b[36m<module>\u001b[0m:\u001b[36m2\u001b[0m - \u001b[1mBuilding absorption for xanthene fold 1\u001b[0m\n",
      "\u001b[32m2025-04-05 18:54:21.061\u001b[0m | \u001b[1mINFO    \u001b[0m | \u001b[36m__main__\u001b[0m:\u001b[36mbuild_data\u001b[0m:\u001b[36m3\u001b[0m - \u001b[1mbefore dropna: 1375\u001b[0m\n",
      "\u001b[32m2025-04-05 18:54:21.080\u001b[0m | \u001b[1mINFO    \u001b[0m | \u001b[36m__main__\u001b[0m:\u001b[36mbuild_data\u001b[0m:\u001b[36m17\u001b[0m - \u001b[1mDataset xanthene with 1370 samples, 229 test, 229 valid, 912 train\u001b[0m\n",
      "\u001b[32m2025-04-05 18:54:21.082\u001b[0m | \u001b[1mINFO    \u001b[0m | \u001b[36m__main__\u001b[0m:\u001b[36m<module>\u001b[0m:\u001b[36m2\u001b[0m - \u001b[1mBuilding absorption for xanthene fold 2\u001b[0m\n",
      "\u001b[32m2025-04-05 18:54:21.094\u001b[0m | \u001b[1mINFO    \u001b[0m | \u001b[36m__main__\u001b[0m:\u001b[36mbuild_data\u001b[0m:\u001b[36m3\u001b[0m - \u001b[1mbefore dropna: 1375\u001b[0m\n",
      "\u001b[32m2025-04-05 18:54:21.109\u001b[0m | \u001b[1mINFO    \u001b[0m | \u001b[36m__main__\u001b[0m:\u001b[36mbuild_data\u001b[0m:\u001b[36m17\u001b[0m - \u001b[1mDataset xanthene with 1368 samples, 227 test, 227 valid, 914 train\u001b[0m\n",
      "\u001b[32m2025-04-05 18:54:21.110\u001b[0m | \u001b[1mINFO    \u001b[0m | \u001b[36m__main__\u001b[0m:\u001b[36m<module>\u001b[0m:\u001b[36m2\u001b[0m - \u001b[1mBuilding absorption for xanthene fold 3\u001b[0m\n",
      "\u001b[32m2025-04-05 18:54:21.121\u001b[0m | \u001b[1mINFO    \u001b[0m | \u001b[36m__main__\u001b[0m:\u001b[36mbuild_data\u001b[0m:\u001b[36m3\u001b[0m - \u001b[1mbefore dropna: 1375\u001b[0m\n",
      "\u001b[32m2025-04-05 18:54:21.133\u001b[0m | \u001b[1mINFO    \u001b[0m | \u001b[36m__main__\u001b[0m:\u001b[36mbuild_data\u001b[0m:\u001b[36m17\u001b[0m - \u001b[1mDataset xanthene with 1368 samples, 227 test, 227 valid, 914 train\u001b[0m\n",
      "\u001b[32m2025-04-05 18:54:21.135\u001b[0m | \u001b[1mINFO    \u001b[0m | \u001b[36m__main__\u001b[0m:\u001b[36m<module>\u001b[0m:\u001b[36m2\u001b[0m - \u001b[1mBuilding absorption for xanthene fold 4\u001b[0m\n",
      "\u001b[32m2025-04-05 18:54:21.144\u001b[0m | \u001b[1mINFO    \u001b[0m | \u001b[36m__main__\u001b[0m:\u001b[36mbuild_data\u001b[0m:\u001b[36m3\u001b[0m - \u001b[1mbefore dropna: 1375\u001b[0m\n",
      "\u001b[32m2025-04-05 18:54:21.155\u001b[0m | \u001b[1mINFO    \u001b[0m | \u001b[36m__main__\u001b[0m:\u001b[36mbuild_data\u001b[0m:\u001b[36m17\u001b[0m - \u001b[1mDataset xanthene with 1370 samples, 229 test, 229 valid, 912 train\u001b[0m\n"
     ]
    }
   ],
   "source": [
    "for fold in range(5):\n",
    "    logger.info(f\"Building {task_name} for {dataset_name} fold {fold}\")\n",
    "    task_dir = data_dir / split_method / f\"{dataset_name}_fold{fold}\" / f\"{task_name}\"\n",
    "    task_dir.mkdir(parents=True, exist_ok=True)\n",
    "\n",
    "    raw_data_path = raw_data_dir / split_method / f\"{dataset_name}_fold{fold}.csv\"\n",
    "    data_path = task_dir / f\"{task_name}.csv\"\n",
    "    build_data(raw_data_path, data_path, task_name)"
   ]
  },
  {
   "cell_type": "code",
   "execution_count": null,
   "metadata": {},
   "outputs": [],
   "source": []
  }
 ],
 "metadata": {
  "kernelspec": {
   "display_name": "mix",
   "language": "python",
   "name": "python3"
  },
  "language_info": {
   "codemirror_mode": {
    "name": "ipython",
    "version": 3
   },
   "file_extension": ".py",
   "mimetype": "text/x-python",
   "name": "python",
   "nbconvert_exporter": "python",
   "pygments_lexer": "ipython3",
   "version": "3.9.20"
  }
 },
 "nbformat": 4,
 "nbformat_minor": 2
}
