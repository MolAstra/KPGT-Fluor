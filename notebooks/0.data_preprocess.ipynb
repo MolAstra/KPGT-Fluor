{
 "cells": [
  {
   "cell_type": "code",
   "execution_count": 21,
   "metadata": {},
   "outputs": [],
   "source": [
    "import pandas as pd\n",
    "from pathlib import Path\n",
    "from molvs import standardize_smiles\n",
    "from loguru import logger\n",
    "from tqdm.auto import tqdm\n",
    "from typing import Optional"
   ]
  },
  {
   "cell_type": "code",
   "execution_count": 22,
   "metadata": {},
   "outputs": [],
   "source": [
    "def canonicalize_smiles(smiles: str) -> Optional[str]:\n",
    "    try:\n",
    "        return standardize_smiles(smiles)\n",
    "    except Exception as e:\n",
    "        logger.error(f\"Error canonicalizing smiles: {smiles} with error: {e}\")\n",
    "        return None"
   ]
  },
  {
   "cell_type": "code",
   "execution_count": 23,
   "metadata": {},
   "outputs": [],
   "source": [
    "raw_data_dir = Path(\"../datasets/raw\")\n",
    "\n",
    "data_consolidation = pd.read_csv(raw_data_dir / \"Dataset_Consolidation.csv\")\n",
    "data_cyanine = pd.read_csv(raw_data_dir / \"Dataset_Cyanine.csv\")\n",
    "data_xanthene = pd.read_csv(raw_data_dir / \"Dataset_Xanthene.csv\")"
   ]
  },
  {
   "cell_type": "code",
   "execution_count": 24,
   "metadata": {},
   "outputs": [],
   "source": [
    "def canonicalize_df(df: pd.DataFrame, column: str) -> pd.DataFrame:\n",
    "    tqdm.pandas(desc=f\"canonicalizing {column}\")\n",
    "    logger.info(f\"before canonicalizing # {column} in {df.shape[0]} rows\")\n",
    "    df[column] = df[column].progress_apply(canonicalize_smiles)\n",
    "    df = df.dropna(subset=[column])\n",
    "    logger.info(f\"after canonicalizing # {column} in {df.shape[0]} rows\")\n",
    "    return df"
   ]
  },
  {
   "cell_type": "code",
   "execution_count": 25,
   "metadata": {},
   "outputs": [
    {
     "name": "stderr",
     "output_type": "stream",
     "text": [
      "\u001b[32m2025-04-03 17:34:38.067\u001b[0m | \u001b[1mINFO    \u001b[0m | \u001b[36m__main__\u001b[0m:\u001b[36mcanonicalize_df\u001b[0m:\u001b[36m3\u001b[0m - \u001b[1mbefore canonicalizing # smiles in 36756 rows\u001b[0m\n"
     ]
    },
    {
     "data": {
      "application/vnd.jupyter.widget-view+json": {
       "model_id": "7d3d8b8fe93547ec88d869e6d60ceea2",
       "version_major": 2,
       "version_minor": 0
      },
      "text/plain": [
       "canonicalizing smiles:   0%|          | 0/36756 [00:00<?, ?it/s]"
      ]
     },
     "metadata": {},
     "output_type": "display_data"
    },
    {
     "name": "stderr",
     "output_type": "stream",
     "text": [
      "[17:34:38] Can't kekulize mol.  Unkekulized atoms: 3 8\n",
      "[17:34:38] Can't kekulize mol.  Unkekulized atoms: 3 6\n",
      "[17:34:38] Can't kekulize mol.  Unkekulized atoms: 3 6\n",
      "[17:34:38] Can't kekulize mol.  Unkekulized atoms: 3 8\n",
      "[17:34:38] Can't kekulize mol.  Unkekulized atoms: 3 6\n",
      "[17:34:40] Can't kekulize mol.  Unkekulized atoms: 3 11 12 15 16 19 20 21\n",
      "[17:34:42] Explicit valence for atom # 37 Al, 2, is greater than permitted\n",
      "\u001b[32m2025-04-03 17:34:42.072\u001b[0m | \u001b[31m\u001b[1mERROR   \u001b[0m | \u001b[36m__main__\u001b[0m:\u001b[36mcanonicalize_smiles\u001b[0m:\u001b[36m5\u001b[0m - \u001b[31m\u001b[1mError canonicalizing smiles: C=CCCCOc1cccc(C2=C3C=CC(=N3)C(c3cc(C(C)(C)C)cc(C(C)(C)C)c3)=c3ccc4n3[Al+3]n3c(ccc32)C(c2cc(C(C)(C)C)cc(C(C)(C)C)c2)=C2C=CC(=N2)C=4c2cccc(OCCCC=C)c2)c1 with error: Explicit valence for atom # 37 Al, 2, is greater than permitted\u001b[0m\n",
      "[17:34:42] Explicit valence for atom # 15 Al, 2, is greater than permitted\n",
      "\u001b[32m2025-04-03 17:34:42.300\u001b[0m | \u001b[31m\u001b[1mERROR   \u001b[0m | \u001b[36m__main__\u001b[0m:\u001b[36mcanonicalize_smiles\u001b[0m:\u001b[36m5\u001b[0m - \u001b[31m\u001b[1mError canonicalizing smiles: C1=CC2=C(c3ccccc3)c3ccc4n3[Al+3]n3c(ccc3=C(c3ccccc3)C3=NC(=C4c4ccccc4)C=C3)=C(c3ccccc3)C1=N2 with error: Explicit valence for atom # 15 Al, 2, is greater than permitted\u001b[0m\n",
      "[17:34:42] Explicit valence for atom # 15 Al, 2, is greater than permitted\n",
      "\u001b[32m2025-04-03 17:34:42.302\u001b[0m | \u001b[31m\u001b[1mERROR   \u001b[0m | \u001b[36m__main__\u001b[0m:\u001b[36mcanonicalize_smiles\u001b[0m:\u001b[36m5\u001b[0m - \u001b[31m\u001b[1mError canonicalizing smiles: C1=CC2=C(c3ccccc3)c3ccc4n3[Al+3]n3c(ccc3=C(c3ccccc3)C3=NC(=C4c4ccccc4)C=C3)=C(c3ccccc3)C1=N2 with error: Explicit valence for atom # 15 Al, 2, is greater than permitted\u001b[0m\n",
      "[17:34:54] Can't kekulize mol.  Unkekulized atoms: 3 5\n",
      "[17:34:54] Can't kekulize mol.  Unkekulized atoms: 3 5\n",
      "[17:34:54] Can't kekulize mol.  Unkekulized atoms: 3 5\n",
      "[17:34:54] Can't kekulize mol.  Unkekulized atoms: 3 5\n",
      "[17:34:58] Explicit valence for atom # 29 Al, 2, is greater than permitted\n",
      "\u001b[32m2025-04-03 17:34:58.599\u001b[0m | \u001b[31m\u001b[1mERROR   \u001b[0m | \u001b[36m__main__\u001b[0m:\u001b[36mcanonicalize_smiles\u001b[0m:\u001b[36m5\u001b[0m - \u001b[31m\u001b[1mError canonicalizing smiles: CCc1ccc(C2=C3C=CC(=N3)C(c3c(F)c(F)c(F)c(F)c3F)=c3ccc4n3[Al+3]n3c2ccc3C(c2c(F)c(F)c(F)c(F)c2F)=C2C=CC(=N2)C=4c2ccc(CC)cc2)cc1 with error: Explicit valence for atom # 29 Al, 2, is greater than permitted\u001b[0m\n",
      "[17:35:16] Can't kekulize mol.  Unkekulized atoms: 3 5\n",
      "[17:35:16] Can't kekulize mol.  Unkekulized atoms: 2 6\n",
      "[17:35:16] Can't kekulize mol.  Unkekulized atoms: 3 9\n",
      "[17:35:19] Explicit valence for atom # 30 Al, 2, is greater than permitted\n",
      "\u001b[32m2025-04-03 17:35:19.964\u001b[0m | \u001b[31m\u001b[1mERROR   \u001b[0m | \u001b[36m__main__\u001b[0m:\u001b[36mcanonicalize_smiles\u001b[0m:\u001b[36m5\u001b[0m - \u001b[31m\u001b[1mError canonicalizing smiles: Fc1c(F)c(F)c(C2=C3C=CC(=N3)C(c3c(F)c(F)c(F)c(F)c3F)=c3ccc4n3[Al+3]n3c2ccc3C(c2c(F)c(F)c(F)c(F)c2F)=C2C=CC(=N2)C=4c2c(F)c(F)c(F)c(F)c2F)c(F)c1F with error: Explicit valence for atom # 30 Al, 2, is greater than permitted\u001b[0m\n",
      "[17:35:20] Explicit valence for atom # 25 Al, 2, is greater than permitted\n",
      "\u001b[32m2025-04-03 17:35:20.138\u001b[0m | \u001b[31m\u001b[1mERROR   \u001b[0m | \u001b[36m__main__\u001b[0m:\u001b[36mcanonicalize_smiles\u001b[0m:\u001b[36m5\u001b[0m - \u001b[31m\u001b[1mError canonicalizing smiles: Fc1cc(C2=C3C=CC(=N3)C(c3cc(F)c(F)c(F)c3)=c3ccc4n3[Al+3]n3c2ccc3C(c2cc(F)c(F)c(F)c2)=C2C=CC(=N2)C=4c2cc(F)c(F)c(F)c2)cc(F)c1F with error: Explicit valence for atom # 25 Al, 2, is greater than permitted\u001b[0m\n",
      "[17:35:24] Can't kekulize mol.  Unkekulized atoms: 3 9\n",
      "[17:35:24] Can't kekulize mol.  Unkekulized atoms: 3 9\n",
      "[17:35:24] Can't kekulize mol.  Unkekulized atoms: 2 7 10 13 15 16\n",
      "[17:35:24] Can't kekulize mol.  Unkekulized atoms: 3 5 21 22 23 24\n",
      "\u001b[32m2025-04-03 17:35:27.167\u001b[0m | \u001b[1mINFO    \u001b[0m | \u001b[36m__main__\u001b[0m:\u001b[36mcanonicalize_df\u001b[0m:\u001b[36m6\u001b[0m - \u001b[1mafter canonicalizing # smiles in 36750 rows\u001b[0m\n",
      "\u001b[32m2025-04-03 17:35:27.170\u001b[0m | \u001b[1mINFO    \u001b[0m | \u001b[36m__main__\u001b[0m:\u001b[36mcanonicalize_df\u001b[0m:\u001b[36m3\u001b[0m - \u001b[1mbefore canonicalizing # solvent in 36750 rows\u001b[0m\n"
     ]
    },
    {
     "data": {
      "application/vnd.jupyter.widget-view+json": {
       "model_id": "e7a8149353ba451ab3c4fda88af64817",
       "version_major": 2,
       "version_minor": 0
      },
      "text/plain": [
       "canonicalizing solvent:   0%|          | 0/36750 [00:00<?, ?it/s]"
      ]
     },
     "metadata": {},
     "output_type": "display_data"
    },
    {
     "name": "stderr",
     "output_type": "stream",
     "text": [
      "\u001b[32m2025-04-03 17:35:37.800\u001b[0m | \u001b[1mINFO    \u001b[0m | \u001b[36m__main__\u001b[0m:\u001b[36mcanonicalize_df\u001b[0m:\u001b[36m6\u001b[0m - \u001b[1mafter canonicalizing # solvent in 36750 rows\u001b[0m\n"
     ]
    }
   ],
   "source": [
    "data_consolidation = canonicalize_df(data_consolidation, \"smiles\")\n",
    "data_consolidation = canonicalize_df(data_consolidation, \"solvent\")"
   ]
  },
  {
   "cell_type": "code",
   "execution_count": 26,
   "metadata": {},
   "outputs": [
    {
     "name": "stderr",
     "output_type": "stream",
     "text": [
      "\u001b[32m2025-04-03 17:35:37.845\u001b[0m | \u001b[1mINFO    \u001b[0m | \u001b[36m__main__\u001b[0m:\u001b[36mcanonicalize_df\u001b[0m:\u001b[36m3\u001b[0m - \u001b[1mbefore canonicalizing # smiles in 1496 rows\u001b[0m\n"
     ]
    },
    {
     "data": {
      "application/vnd.jupyter.widget-view+json": {
       "model_id": "5f061dd0dfdf4473ad8d78094652d7fa",
       "version_major": 2,
       "version_minor": 0
      },
      "text/plain": [
       "canonicalizing smiles:   0%|          | 0/1496 [00:00<?, ?it/s]"
      ]
     },
     "metadata": {},
     "output_type": "display_data"
    },
    {
     "name": "stderr",
     "output_type": "stream",
     "text": [
      "\u001b[32m2025-04-03 17:35:39.860\u001b[0m | \u001b[1mINFO    \u001b[0m | \u001b[36m__main__\u001b[0m:\u001b[36mcanonicalize_df\u001b[0m:\u001b[36m6\u001b[0m - \u001b[1mafter canonicalizing # smiles in 1496 rows\u001b[0m\n",
      "\u001b[32m2025-04-03 17:35:39.862\u001b[0m | \u001b[1mINFO    \u001b[0m | \u001b[36m__main__\u001b[0m:\u001b[36mcanonicalize_df\u001b[0m:\u001b[36m3\u001b[0m - \u001b[1mbefore canonicalizing # solvent in 1496 rows\u001b[0m\n"
     ]
    },
    {
     "data": {
      "application/vnd.jupyter.widget-view+json": {
       "model_id": "6c78750c5f8e45ddb8c116d650271eb1",
       "version_major": 2,
       "version_minor": 0
      },
      "text/plain": [
       "canonicalizing solvent:   0%|          | 0/1496 [00:00<?, ?it/s]"
      ]
     },
     "metadata": {},
     "output_type": "display_data"
    },
    {
     "name": "stderr",
     "output_type": "stream",
     "text": [
      "\u001b[32m2025-04-03 17:35:40.280\u001b[0m | \u001b[1mINFO    \u001b[0m | \u001b[36m__main__\u001b[0m:\u001b[36mcanonicalize_df\u001b[0m:\u001b[36m6\u001b[0m - \u001b[1mafter canonicalizing # solvent in 1496 rows\u001b[0m\n"
     ]
    }
   ],
   "source": [
    "data_cyanine = canonicalize_df(data_cyanine, \"smiles\")\n",
    "data_cyanine = canonicalize_df(data_cyanine, \"solvent\")"
   ]
  },
  {
   "cell_type": "code",
   "execution_count": 27,
   "metadata": {},
   "outputs": [
    {
     "name": "stderr",
     "output_type": "stream",
     "text": [
      "\u001b[32m2025-04-03 17:35:40.341\u001b[0m | \u001b[1mINFO    \u001b[0m | \u001b[36m__main__\u001b[0m:\u001b[36mcanonicalize_df\u001b[0m:\u001b[36m3\u001b[0m - \u001b[1mbefore canonicalizing # smiles in 1152 rows\u001b[0m\n"
     ]
    },
    {
     "data": {
      "application/vnd.jupyter.widget-view+json": {
       "model_id": "46c65787632b4d7a898f75c1a9c69a8a",
       "version_major": 2,
       "version_minor": 0
      },
      "text/plain": [
       "canonicalizing smiles:   0%|          | 0/1152 [00:00<?, ?it/s]"
      ]
     },
     "metadata": {},
     "output_type": "display_data"
    },
    {
     "name": "stderr",
     "output_type": "stream",
     "text": [
      "\u001b[32m2025-04-03 17:35:41.745\u001b[0m | \u001b[1mINFO    \u001b[0m | \u001b[36m__main__\u001b[0m:\u001b[36mcanonicalize_df\u001b[0m:\u001b[36m6\u001b[0m - \u001b[1mafter canonicalizing # smiles in 1152 rows\u001b[0m\n",
      "\u001b[32m2025-04-03 17:35:41.748\u001b[0m | \u001b[1mINFO    \u001b[0m | \u001b[36m__main__\u001b[0m:\u001b[36mcanonicalize_df\u001b[0m:\u001b[36m3\u001b[0m - \u001b[1mbefore canonicalizing # solvent in 1152 rows\u001b[0m\n"
     ]
    },
    {
     "data": {
      "application/vnd.jupyter.widget-view+json": {
       "model_id": "22207de253864188a280e5aaea70a807",
       "version_major": 2,
       "version_minor": 0
      },
      "text/plain": [
       "canonicalizing solvent:   0%|          | 0/1152 [00:00<?, ?it/s]"
      ]
     },
     "metadata": {},
     "output_type": "display_data"
    },
    {
     "name": "stderr",
     "output_type": "stream",
     "text": [
      "\u001b[32m2025-04-03 17:35:42.062\u001b[0m | \u001b[1mINFO    \u001b[0m | \u001b[36m__main__\u001b[0m:\u001b[36mcanonicalize_df\u001b[0m:\u001b[36m6\u001b[0m - \u001b[1mafter canonicalizing # solvent in 1152 rows\u001b[0m\n"
     ]
    }
   ],
   "source": [
    "data_xanthene = canonicalize_df(data_xanthene, \"smiles\")\n",
    "data_xanthene = canonicalize_df(data_xanthene, \"solvent\")"
   ]
  },
  {
   "cell_type": "code",
   "execution_count": 28,
   "metadata": {},
   "outputs": [],
   "source": [
    "data_consolidation.to_csv(raw_data_dir / \"Dataset_Consolidation_canonicalized.csv\", index=False)\n",
    "data_cyanine.to_csv(raw_data_dir / \"Dataset_Cyanine_canonicalized.csv\", index=False)\n",
    "data_xanthene.to_csv(raw_data_dir / \"Dataset_Xanthene_canonicalized.csv\", index=False)"
   ]
  },
  {
   "cell_type": "code",
   "execution_count": null,
   "metadata": {},
   "outputs": [],
   "source": []
  }
 ],
 "metadata": {
  "kernelspec": {
   "display_name": "mix",
   "language": "python",
   "name": "python3"
  },
  "language_info": {
   "codemirror_mode": {
    "name": "ipython",
    "version": 3
   },
   "file_extension": ".py",
   "mimetype": "text/x-python",
   "name": "python",
   "nbconvert_exporter": "python",
   "pygments_lexer": "ipython3",
   "version": "3.9.20"
  }
 },
 "nbformat": 4,
 "nbformat_minor": 2
}
