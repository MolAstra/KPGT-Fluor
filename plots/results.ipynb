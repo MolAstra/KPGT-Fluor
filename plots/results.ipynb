{
 "cells": [
  {
   "cell_type": "code",
   "execution_count": 1,
   "metadata": {},
   "outputs": [],
   "source": [
    "import pandas as pd\n",
    "import numpy as np\n",
    "import matplotlib.pyplot as plt\n",
    "import seaborn as sns\n",
    "from sklearn.metrics import mean_absolute_error, mean_squared_error, r2_score\n",
    "from pathlib import Path\n",
    "from typing import List"
   ]
  },
  {
   "cell_type": "code",
   "execution_count": 2,
   "metadata": {},
   "outputs": [],
   "source": [
    "# gether results\n",
    "def calculate_metrics(y_true: List[float], y_pred: List[float]):\n",
    "    _y_true = np.array(y_true)\n",
    "    _y_pred = np.array(y_pred)\n",
    "    mae = mean_absolute_error(_y_true, _y_pred)\n",
    "    rmse = np.sqrt(mean_squared_error(_y_true, _y_pred))\n",
    "    r2 = r2_score(_y_true, _y_pred)\n",
    "    return {\n",
    "        \"mae\": mae,\n",
    "        \"rmse\": rmse,\n",
    "        \"r2\": r2\n",
    "    }\n",
    "\n",
    "def gather_results(results_dir: Path, model_name: str, is_direct: bool = False):\n",
    "    results = []\n",
    "    for split_method in results_dir.iterdir():\n",
    "        if split_method.is_dir():\n",
    "            for dataset_fold in split_method.iterdir():\n",
    "                dataset_name = dataset_fold.name.split(\"_\")[0]\n",
    "                fold_name = dataset_fold.name.split(\"_\")[1]\n",
    "                for property in dataset_fold.iterdir():\n",
    "                    if property.is_dir():\n",
    "                        results_this = {\n",
    "                            \"dataset\": dataset_name,\n",
    "                            \"split_method\": split_method.name,\n",
    "                            \"fold\": fold_name,\n",
    "                            \"property\": property.name,\n",
    "                            \"model\": model_name,\n",
    "                            \"is_direct\": is_direct\n",
    "                        }\n",
    "                        if dataset_name == \"consolidation\":\n",
    "                            df = pd.read_csv(property / \"valid.csv\")\n",
    "                        else:\n",
    "                            if is_direct:\n",
    "                                df_train = pd.read_csv(property / \"train.csv\")\n",
    "                                df_valid = pd.read_csv(property / \"valid.csv\")\n",
    "                                df = pd.concat([df_train, df_valid])\n",
    "                            else:\n",
    "                                df = pd.read_csv(property / \"valid.csv\")\n",
    "                            \n",
    "                        labels = df[\"label\"].tolist()\n",
    "                        preds = df[\"predictions\"].tolist()\n",
    "                        results_metrics = calculate_metrics(labels, preds)\n",
    "                        results_this.update(results_metrics)\n",
    "                        results.append(results_this)\n",
    "    return results"
   ]
  },
  {
   "cell_type": "code",
   "execution_count": 3,
   "metadata": {},
   "outputs": [
    {
     "name": "stdout",
     "output_type": "stream",
     "text": [
      "KPGT-Fluor (indirect): 120\n",
      "KPGT-Fluor (direct): 80\n"
     ]
    }
   ],
   "source": [
    "results_list = []\n",
    "\n",
    "result_path = Path(\"../results\")\n",
    "model_name = \"KPGT-Fluor\"\n",
    "is_direct = False\n",
    "results = gather_results(result_path , model_name, is_direct)\n",
    "print(f\"{model_name} ({'direct' if is_direct else 'indirect'}): {len(results)}\")\n",
    "results_list.extend(results)\n",
    "\n",
    "result_path = Path(\"../results_direct\")\n",
    "model_name = \"KPGT-Fluor\"\n",
    "is_direct = True\n",
    "results = gather_results(result_path , model_name, is_direct)\n",
    "print(f\"{model_name} ({'direct' if is_direct else 'indirect'}): {len(results)}\")\n",
    "results_list.extend(results)"
   ]
  },
  {
   "cell_type": "code",
   "execution_count": 4,
   "metadata": {},
   "outputs": [
    {
     "name": "stdout",
     "output_type": "stream",
     "text": [
      "rf (indirect): 120\n",
      "rf (direct): 80\n"
     ]
    }
   ],
   "source": [
    "result_path = Path(\"../results_rf\")\n",
    "model_name = \"rf\"\n",
    "is_direct = False\n",
    "results = gather_results(result_path , model_name, is_direct)\n",
    "print(f\"{model_name} ({'direct' if is_direct else 'indirect'}): {len(results)}\")\n",
    "results_list.extend(results)\n",
    "\n",
    "result_path = Path(\"../results_rf_direct\")\n",
    "model_name = \"rf\"\n",
    "is_direct = True\n",
    "results = gather_results(result_path , model_name, is_direct)\n",
    "print(f\"{model_name} ({'direct' if is_direct else 'indirect'}): {len(results)}\")\n",
    "results_list.extend(results)"
   ]
  },
  {
   "cell_type": "code",
   "execution_count": 5,
   "metadata": {},
   "outputs": [
    {
     "name": "stdout",
     "output_type": "stream",
     "text": [
      "lightgbm (indirect): 120\n",
      "lightgbm (direct): 80\n"
     ]
    }
   ],
   "source": [
    "result_path = Path(\"../results_lightgbm\")\n",
    "model_name = \"lightgbm\"\n",
    "is_direct = False\n",
    "results = gather_results(result_path , model_name, is_direct)\n",
    "print(f\"{model_name} ({'direct' if is_direct else 'indirect'}): {len(results)}\")\n",
    "results_list.extend(results)\n",
    "\n",
    "result_path = Path(\"../results_lightgbm_direct\")\n",
    "model_name = \"lightgbm\"\n",
    "is_direct = True\n",
    "results = gather_results(result_path , model_name, is_direct)\n",
    "print(f\"{model_name} ({'direct' if is_direct else 'indirect'}): {len(results)}\")\n",
    "results_list.extend(results)"
   ]
  },
  {
   "cell_type": "code",
   "execution_count": 6,
   "metadata": {},
   "outputs": [
    {
     "name": "stdout",
     "output_type": "stream",
     "text": [
      "gbrt (indirect): 120\n",
      "gbrt (direct): 80\n"
     ]
    }
   ],
   "source": [
    "result_path = Path(\"../results_gbrt\")\n",
    "model_name = \"gbrt\"\n",
    "is_direct = False\n",
    "results = gather_results(result_path , model_name, is_direct)\n",
    "print(f\"{model_name} ({'direct' if is_direct else 'indirect'}): {len(results)}\")\n",
    "results_list.extend(results)\n",
    "\n",
    "result_path = Path(\"../results_gbrt_direct\")\n",
    "model_name = \"gbrt\"\n",
    "is_direct = True\n",
    "results = gather_results(result_path , model_name, is_direct)\n",
    "print(f\"{model_name} ({'direct' if is_direct else 'indirect'}): {len(results)}\")\n",
    "results_list.extend(results)"
   ]
  },
  {
   "cell_type": "code",
   "execution_count": 7,
   "metadata": {},
   "outputs": [
    {
     "name": "stdout",
     "output_type": "stream",
     "text": [
      "svr (indirect): 120\n",
      "svr (direct): 80\n"
     ]
    }
   ],
   "source": [
    "result_path = Path(\"../results_svr\")\n",
    "model_name = \"svr\"\n",
    "is_direct = False\n",
    "results = gather_results(result_path , model_name, is_direct)\n",
    "print(f\"{model_name} ({'direct' if is_direct else 'indirect'}): {len(results)}\")\n",
    "results_list.extend(results)\n",
    "\n",
    "result_path = Path(\"../results_svr_direct\")\n",
    "model_name = \"svr\"\n",
    "is_direct = True\n",
    "results = gather_results(result_path , model_name, is_direct)\n",
    "print(f\"{model_name} ({'direct' if is_direct else 'indirect'}): {len(results)}\")\n",
    "results_list.extend(results)"
   ]
  },
  {
   "cell_type": "code",
   "execution_count": 8,
   "metadata": {},
   "outputs": [],
   "source": [
    "results_df = pd.DataFrame(results_list)\n",
    "results_df.to_csv(f\"../results.csv\", index=False)"
   ]
  },
  {
   "cell_type": "code",
   "execution_count": 9,
   "metadata": {},
   "outputs": [
    {
     "data": {
      "text/plain": [
       "1000"
      ]
     },
     "execution_count": 9,
     "metadata": {},
     "output_type": "execute_result"
    }
   ],
   "source": [
    "len(results_df)"
   ]
  },
  {
   "cell_type": "code",
   "execution_count": 10,
   "metadata": {},
   "outputs": [
    {
     "data": {
      "text/html": [
       "<div>\n",
       "<style scoped>\n",
       "    .dataframe tbody tr th:only-of-type {\n",
       "        vertical-align: middle;\n",
       "    }\n",
       "\n",
       "    .dataframe tbody tr th {\n",
       "        vertical-align: top;\n",
       "    }\n",
       "\n",
       "    .dataframe thead th {\n",
       "        text-align: right;\n",
       "    }\n",
       "</style>\n",
       "<table border=\"1\" class=\"dataframe\">\n",
       "  <thead>\n",
       "    <tr style=\"text-align: right;\">\n",
       "      <th></th>\n",
       "      <th>dataset</th>\n",
       "      <th>split_method</th>\n",
       "      <th>fold</th>\n",
       "      <th>property</th>\n",
       "      <th>model</th>\n",
       "      <th>is_direct</th>\n",
       "      <th>mae</th>\n",
       "      <th>rmse</th>\n",
       "      <th>r2</th>\n",
       "    </tr>\n",
       "  </thead>\n",
       "  <tbody>\n",
       "    <tr>\n",
       "      <th>0</th>\n",
       "      <td>consolidation</td>\n",
       "      <td>scaffold</td>\n",
       "      <td>fold0</td>\n",
       "      <td>absorption</td>\n",
       "      <td>KPGT-Fluor</td>\n",
       "      <td>False</td>\n",
       "      <td>21.566900</td>\n",
       "      <td>33.268852</td>\n",
       "      <td>0.912601</td>\n",
       "    </tr>\n",
       "    <tr>\n",
       "      <th>1</th>\n",
       "      <td>consolidation</td>\n",
       "      <td>scaffold</td>\n",
       "      <td>fold0</td>\n",
       "      <td>emission</td>\n",
       "      <td>KPGT-Fluor</td>\n",
       "      <td>False</td>\n",
       "      <td>25.671684</td>\n",
       "      <td>36.180875</td>\n",
       "      <td>0.853202</td>\n",
       "    </tr>\n",
       "    <tr>\n",
       "      <th>2</th>\n",
       "      <td>consolidation</td>\n",
       "      <td>scaffold</td>\n",
       "      <td>fold0</td>\n",
       "      <td>quantum_yield</td>\n",
       "      <td>KPGT-Fluor</td>\n",
       "      <td>False</td>\n",
       "      <td>0.140766</td>\n",
       "      <td>0.199598</td>\n",
       "      <td>0.550190</td>\n",
       "    </tr>\n",
       "    <tr>\n",
       "      <th>3</th>\n",
       "      <td>consolidation</td>\n",
       "      <td>scaffold</td>\n",
       "      <td>fold0</td>\n",
       "      <td>log_molar_absorptivity</td>\n",
       "      <td>KPGT-Fluor</td>\n",
       "      <td>False</td>\n",
       "      <td>0.154325</td>\n",
       "      <td>0.225147</td>\n",
       "      <td>0.818386</td>\n",
       "    </tr>\n",
       "    <tr>\n",
       "      <th>4</th>\n",
       "      <td>cyanine</td>\n",
       "      <td>scaffold</td>\n",
       "      <td>fold0</td>\n",
       "      <td>absorption</td>\n",
       "      <td>KPGT-Fluor</td>\n",
       "      <td>False</td>\n",
       "      <td>17.968945</td>\n",
       "      <td>26.063522</td>\n",
       "      <td>0.942118</td>\n",
       "    </tr>\n",
       "  </tbody>\n",
       "</table>\n",
       "</div>"
      ],
      "text/plain": [
       "         dataset split_method   fold                property       model  \\\n",
       "0  consolidation     scaffold  fold0              absorption  KPGT-Fluor   \n",
       "1  consolidation     scaffold  fold0                emission  KPGT-Fluor   \n",
       "2  consolidation     scaffold  fold0           quantum_yield  KPGT-Fluor   \n",
       "3  consolidation     scaffold  fold0  log_molar_absorptivity  KPGT-Fluor   \n",
       "4        cyanine     scaffold  fold0              absorption  KPGT-Fluor   \n",
       "\n",
       "   is_direct        mae       rmse        r2  \n",
       "0      False  21.566900  33.268852  0.912601  \n",
       "1      False  25.671684  36.180875  0.853202  \n",
       "2      False   0.140766   0.199598  0.550190  \n",
       "3      False   0.154325   0.225147  0.818386  \n",
       "4      False  17.968945  26.063522  0.942118  "
      ]
     },
     "execution_count": 10,
     "metadata": {},
     "output_type": "execute_result"
    }
   ],
   "source": [
    "results_df.head()"
   ]
  },
  {
   "cell_type": "code",
   "execution_count": null,
   "metadata": {},
   "outputs": [],
   "source": []
  }
 ],
 "metadata": {
  "kernelspec": {
   "display_name": "KPGT",
   "language": "python",
   "name": "python3"
  },
  "language_info": {
   "codemirror_mode": {
    "name": "ipython",
    "version": 3
   },
   "file_extension": ".py",
   "mimetype": "text/x-python",
   "name": "python",
   "nbconvert_exporter": "python",
   "pygments_lexer": "ipython3",
   "version": "3.7.13"
  }
 },
 "nbformat": 4,
 "nbformat_minor": 2
}
